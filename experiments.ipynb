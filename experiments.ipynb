{
 "cells": [
  {
   "cell_type": "markdown",
   "metadata": {},
   "source": [
    "This notebook will load in a dataset, the API, and will make machine learning models from them."
   ]
  },
  {
   "cell_type": "markdown",
   "metadata": {},
   "source": [
    "Lets first import the API."
   ]
  },
  {
   "cell_type": "code",
   "execution_count": 2,
   "metadata": {},
   "outputs": [],
   "source": [
    "# import the API\n",
    "APILoc = r\"*insert directory of API\"\n",
    "\n",
    "import sys\n",
    "sys.path.insert(0, APILoc)\n",
    "\n",
    "from API import *"
   ]
  },
  {
   "cell_type": "markdown",
   "metadata": {},
   "source": [
    "Load the dataset"
   ]
  },
  {
   "cell_type": "code",
   "execution_count": 3,
   "metadata": {
    "collapsed": true
   },
   "outputs": [],
   "source": [
    "# get aggregate data\n",
    "aggDataLoc = r\"*insert location of csv of dataset\"\n",
    "\n",
    "aggDf = pd.read_csv(aggDataLoc)\n",
    "aggDf = aggDf.drop(\"Unnamed: 0\",axis=1)\n"
   ]
  },
  {
   "cell_type": "markdown",
   "metadata": {},
   "source": [
    "List the first few rows of the dataset to check that it loaded correctly"
   ]
  },
  {
   "cell_type": "code",
   "execution_count": 4,
   "metadata": {},
   "outputs": [
    {
     "data": {
      "text/html": [
       "<div>\n",
       "<style scoped>\n",
       "    .dataframe tbody tr th:only-of-type {\n",
       "        vertical-align: middle;\n",
       "    }\n",
       "\n",
       "    .dataframe tbody tr th {\n",
       "        vertical-align: top;\n",
       "    }\n",
       "\n",
       "    .dataframe thead th {\n",
       "        text-align: right;\n",
       "    }\n",
       "</style>\n",
       "<table border=\"1\" class=\"dataframe\">\n",
       "  <thead>\n",
       "    <tr style=\"text-align: right;\">\n",
       "      <th></th>\n",
       "      <th>Julian Day</th>\n",
       "      <th>Time Since Sown (Days)</th>\n",
       "      <th>Time Since Last Harvest (Days)</th>\n",
       "      <th>Total Radiation (MJ/m^2)</th>\n",
       "      <th>Total Rainfall (mm)</th>\n",
       "      <th>Avg Air Temp (C)</th>\n",
       "      <th>Avg Min Temp (C)</th>\n",
       "      <th>Avg Max Temp (C)</th>\n",
       "      <th>Avg Soil Moisture (%)</th>\n",
       "      <th>Day Length (hrs)</th>\n",
       "      <th>Percent Cover (%)</th>\n",
       "      <th>Yield (tons/acre)</th>\n",
       "    </tr>\n",
       "  </thead>\n",
       "  <tbody>\n",
       "    <tr>\n",
       "      <th>0</th>\n",
       "      <td>340</td>\n",
       "      <td>422</td>\n",
       "      <td>99</td>\n",
       "      <td>1413.37</td>\n",
       "      <td>199.136</td>\n",
       "      <td>15.61899</td>\n",
       "      <td>10.121818</td>\n",
       "      <td>21.740505</td>\n",
       "      <td>0.13408</td>\n",
       "      <td>10.0</td>\n",
       "      <td>90.915344</td>\n",
       "      <td>0.76</td>\n",
       "    </tr>\n",
       "    <tr>\n",
       "      <th>1</th>\n",
       "      <td>340</td>\n",
       "      <td>422</td>\n",
       "      <td>99</td>\n",
       "      <td>1413.37</td>\n",
       "      <td>199.136</td>\n",
       "      <td>15.61899</td>\n",
       "      <td>10.121818</td>\n",
       "      <td>21.740505</td>\n",
       "      <td>0.13408</td>\n",
       "      <td>10.0</td>\n",
       "      <td>90.968254</td>\n",
       "      <td>0.79</td>\n",
       "    </tr>\n",
       "    <tr>\n",
       "      <th>2</th>\n",
       "      <td>340</td>\n",
       "      <td>422</td>\n",
       "      <td>99</td>\n",
       "      <td>1413.37</td>\n",
       "      <td>199.136</td>\n",
       "      <td>15.61899</td>\n",
       "      <td>10.121818</td>\n",
       "      <td>21.740505</td>\n",
       "      <td>0.13408</td>\n",
       "      <td>10.0</td>\n",
       "      <td>87.925926</td>\n",
       "      <td>0.75</td>\n",
       "    </tr>\n",
       "    <tr>\n",
       "      <th>3</th>\n",
       "      <td>340</td>\n",
       "      <td>422</td>\n",
       "      <td>99</td>\n",
       "      <td>1413.37</td>\n",
       "      <td>199.136</td>\n",
       "      <td>15.61899</td>\n",
       "      <td>10.121818</td>\n",
       "      <td>21.740505</td>\n",
       "      <td>0.13408</td>\n",
       "      <td>10.0</td>\n",
       "      <td>88.883598</td>\n",
       "      <td>0.70</td>\n",
       "    </tr>\n",
       "    <tr>\n",
       "      <th>4</th>\n",
       "      <td>340</td>\n",
       "      <td>422</td>\n",
       "      <td>99</td>\n",
       "      <td>1413.37</td>\n",
       "      <td>199.136</td>\n",
       "      <td>15.61899</td>\n",
       "      <td>10.121818</td>\n",
       "      <td>21.740505</td>\n",
       "      <td>0.13408</td>\n",
       "      <td>10.0</td>\n",
       "      <td>86.883598</td>\n",
       "      <td>0.69</td>\n",
       "    </tr>\n",
       "  </tbody>\n",
       "</table>\n",
       "</div>"
      ],
      "text/plain": [
       "   Julian Day  Time Since Sown (Days)  Time Since Last Harvest (Days)  \\\n",
       "0         340                     422                              99   \n",
       "1         340                     422                              99   \n",
       "2         340                     422                              99   \n",
       "3         340                     422                              99   \n",
       "4         340                     422                              99   \n",
       "\n",
       "   Total Radiation (MJ/m^2)  Total Rainfall (mm)  Avg Air Temp (C)  \\\n",
       "0                   1413.37              199.136          15.61899   \n",
       "1                   1413.37              199.136          15.61899   \n",
       "2                   1413.37              199.136          15.61899   \n",
       "3                   1413.37              199.136          15.61899   \n",
       "4                   1413.37              199.136          15.61899   \n",
       "\n",
       "   Avg Min Temp (C)  Avg Max Temp (C)  Avg Soil Moisture (%)  \\\n",
       "0         10.121818         21.740505                0.13408   \n",
       "1         10.121818         21.740505                0.13408   \n",
       "2         10.121818         21.740505                0.13408   \n",
       "3         10.121818         21.740505                0.13408   \n",
       "4         10.121818         21.740505                0.13408   \n",
       "\n",
       "   Day Length (hrs)  Percent Cover (%)  Yield (tons/acre)  \n",
       "0              10.0          90.915344               0.76  \n",
       "1              10.0          90.968254               0.79  \n",
       "2              10.0          87.925926               0.75  \n",
       "3              10.0          88.883598               0.70  \n",
       "4              10.0          86.883598               0.69  "
      ]
     },
     "execution_count": 4,
     "metadata": {},
     "output_type": "execute_result"
    }
   ],
   "source": [
    "aggDf.head()"
   ]
  },
  {
   "cell_type": "markdown",
   "metadata": {},
   "source": [
    "Now lets filter out features that will not be made available for feature selection. All of the features in the list 'XColumnsToKeep' will be made available for feature selection. The features that could have been included\n",
    "from my original project are: <br>\n",
    "\"Julian Day\" <br>\n",
    "\"Time Since Sown (Days)\" <br>\n",
    "\"Time Since Last Harvest (Days)\" <br>\n",
    "\"Total Radiation (MJ/m^2)\" <br>\n",
    "\"Total Rainfall (mm)\" <br>\n",
    "\"Avg Air Temp (C)\" <br>\n",
    "\"Avg Min Temp (C)\" <br>\n",
    "\"Avg Max Temp (C)\"<br>\n",
    "\"Avg Soil Moisture (%)\"<br>\n",
    "\"Day Length (hrs)\"<br>\n",
    "\"Percent Cover (%)\"<br>"
   ]
  },
  {
   "cell_type": "code",
   "execution_count": 5,
   "metadata": {
    "collapsed": true
   },
   "outputs": [],
   "source": [
    "# filter out the features that will not be used by the machine learning models\n",
    "\n",
    "# the features to keep:\n",
    "xColumnsToKeep = [\"Julian Day\", \"Time Since Sown (Days)\", \"Total Radiation (MJ/m^2)\",\n",
    "                \"Total Rainfall (mm)\"]\n",
    "\n",
    "    \n",
    "# the target to keep\n",
    "yColumnsToKeep = [\"Yield (tons/acre)\"]\n",
    "\n",
    "# get a dataframe containing the features and the targets\n",
    "xDf = aggDf[xColumnsToKeep]\n",
    "yDf = aggDf[yColumnsToKeep]\n",
    "\n",
    "# reset the index\n",
    "xDf = xDf.reset_index(drop=True)\n",
    "yDf = yDf.reset_index(drop=True)\n",
    "\n",
    "pd.set_option('display.max_rows', 2500)\n",
    "pd.set_option('display.max_columns', 500)\n",
    "\n",
    "xCols = list(xDf)"
   ]
  },
  {
   "cell_type": "markdown",
   "metadata": {},
   "source": [
    "Now lets look at the first few rows of the input feature data and the target data"
   ]
  },
  {
   "cell_type": "code",
   "execution_count": 6,
   "metadata": {},
   "outputs": [
    {
     "data": {
      "text/html": [
       "<div>\n",
       "<style scoped>\n",
       "    .dataframe tbody tr th:only-of-type {\n",
       "        vertical-align: middle;\n",
       "    }\n",
       "\n",
       "    .dataframe tbody tr th {\n",
       "        vertical-align: top;\n",
       "    }\n",
       "\n",
       "    .dataframe thead th {\n",
       "        text-align: right;\n",
       "    }\n",
       "</style>\n",
       "<table border=\"1\" class=\"dataframe\">\n",
       "  <thead>\n",
       "    <tr style=\"text-align: right;\">\n",
       "      <th></th>\n",
       "      <th>Julian Day</th>\n",
       "      <th>Time Since Sown (Days)</th>\n",
       "      <th>Total Radiation (MJ/m^2)</th>\n",
       "      <th>Total Rainfall (mm)</th>\n",
       "    </tr>\n",
       "  </thead>\n",
       "  <tbody>\n",
       "    <tr>\n",
       "      <th>0</th>\n",
       "      <td>340</td>\n",
       "      <td>422</td>\n",
       "      <td>1413.37</td>\n",
       "      <td>199.136</td>\n",
       "    </tr>\n",
       "    <tr>\n",
       "      <th>1</th>\n",
       "      <td>340</td>\n",
       "      <td>422</td>\n",
       "      <td>1413.37</td>\n",
       "      <td>199.136</td>\n",
       "    </tr>\n",
       "    <tr>\n",
       "      <th>2</th>\n",
       "      <td>340</td>\n",
       "      <td>422</td>\n",
       "      <td>1413.37</td>\n",
       "      <td>199.136</td>\n",
       "    </tr>\n",
       "    <tr>\n",
       "      <th>3</th>\n",
       "      <td>340</td>\n",
       "      <td>422</td>\n",
       "      <td>1413.37</td>\n",
       "      <td>199.136</td>\n",
       "    </tr>\n",
       "    <tr>\n",
       "      <th>4</th>\n",
       "      <td>340</td>\n",
       "      <td>422</td>\n",
       "      <td>1413.37</td>\n",
       "      <td>199.136</td>\n",
       "    </tr>\n",
       "  </tbody>\n",
       "</table>\n",
       "</div>"
      ],
      "text/plain": [
       "   Julian Day  Time Since Sown (Days)  Total Radiation (MJ/m^2)  \\\n",
       "0         340                     422                   1413.37   \n",
       "1         340                     422                   1413.37   \n",
       "2         340                     422                   1413.37   \n",
       "3         340                     422                   1413.37   \n",
       "4         340                     422                   1413.37   \n",
       "\n",
       "   Total Rainfall (mm)  \n",
       "0              199.136  \n",
       "1              199.136  \n",
       "2              199.136  \n",
       "3              199.136  \n",
       "4              199.136  "
      ]
     },
     "execution_count": 6,
     "metadata": {},
     "output_type": "execute_result"
    }
   ],
   "source": [
    "xDf.head()"
   ]
  },
  {
   "cell_type": "code",
   "execution_count": 7,
   "metadata": {},
   "outputs": [
    {
     "data": {
      "text/html": [
       "<div>\n",
       "<style scoped>\n",
       "    .dataframe tbody tr th:only-of-type {\n",
       "        vertical-align: middle;\n",
       "    }\n",
       "\n",
       "    .dataframe tbody tr th {\n",
       "        vertical-align: top;\n",
       "    }\n",
       "\n",
       "    .dataframe thead th {\n",
       "        text-align: right;\n",
       "    }\n",
       "</style>\n",
       "<table border=\"1\" class=\"dataframe\">\n",
       "  <thead>\n",
       "    <tr style=\"text-align: right;\">\n",
       "      <th></th>\n",
       "      <th>Yield (tons/acre)</th>\n",
       "    </tr>\n",
       "  </thead>\n",
       "  <tbody>\n",
       "    <tr>\n",
       "      <th>0</th>\n",
       "      <td>0.76</td>\n",
       "    </tr>\n",
       "    <tr>\n",
       "      <th>1</th>\n",
       "      <td>0.79</td>\n",
       "    </tr>\n",
       "    <tr>\n",
       "      <th>2</th>\n",
       "      <td>0.75</td>\n",
       "    </tr>\n",
       "    <tr>\n",
       "      <th>3</th>\n",
       "      <td>0.70</td>\n",
       "    </tr>\n",
       "    <tr>\n",
       "      <th>4</th>\n",
       "      <td>0.69</td>\n",
       "    </tr>\n",
       "  </tbody>\n",
       "</table>\n",
       "</div>"
      ],
      "text/plain": [
       "   Yield (tons/acre)\n",
       "0               0.76\n",
       "1               0.79\n",
       "2               0.75\n",
       "3               0.70\n",
       "4               0.69"
      ]
     },
     "execution_count": 7,
     "metadata": {},
     "output_type": "execute_result"
    }
   ],
   "source": [
    "yDf.head()"
   ]
  },
  {
   "cell_type": "markdown",
   "metadata": {},
   "source": [
    "Lets now define the parameters that will be used to run the machine learning experiments. Note that parameter grids could be made that will allow sci-kit learn to use a 5-fold gridsearch to find the model's best hyperparameters. The parameter grids that are defined here will specify the possible values for the grid search. <br>\n",
    "<br>\n",
    "Once the parameter grids are defined, a list of tuples must also be defined. The tuples must take the form of: <br>\n",
    "(sci-kit learn model, appropriate parameter grid, name of the file to be saved). <br>\n",
    "<br>\n",
    "Then the number of iterations should be made. This is represented by the variable 'N'. Each model will be evaluated N times (via N-fold cross validation), and the average results of the models over those N iterations will be returned. <br>\n",
    "<br>\n",
    "'workingDir' is the directory in which all of the results will be saved. <br>\n",
    "<br>\n",
    "'numFeatures' is the number of features that will be selected (via feature selection)."
   ]
  },
  {
   "cell_type": "code",
   "execution_count": null,
   "metadata": {
    "collapsed": true
   },
   "outputs": [],
   "source": [
    "# hide the warnings because training the neural network caues lots of warnings.\n",
    "import warnings\n",
    "warnings.filterwarnings('ignore')\n",
    "\n",
    "# make the parameter grids for sklearn's gridsearchcv\n",
    "rfParamGrid = {\n",
    "        'model__n_estimators': [5, 10, 25, 50, 100], # Number of estimators\n",
    "        'model__max_depth': [5, 10, 15, 20], # Maximum depth of the tree\n",
    "        'model__criterion': [\"mae\"]\n",
    "    }\n",
    "knnParamGrid ={\n",
    "        'model__n_neighbors':[2,5,10],\n",
    "        'model__weights': ['uniform', 'distance'],\n",
    "        'model__leaf_size': [5, 10, 30, 50]    \n",
    "    }\n",
    "svrParamGrid = {\n",
    "        'model__kernel': ['linear', 'poly', 'rbf', 'sigmoid'],\n",
    "        'model__C': [0.1, 1.0, 5.0, 10.0],\n",
    "        'model__gamma': [\"scale\", \"auto\"],\n",
    "        'model__degree': [2,3,4,5]\n",
    "    }\n",
    "nnParamGrid = {\n",
    "        'model__hidden_layer_sizes':[(3), (5), (10), (3,3), (5,5), (10,10)],\n",
    "        'model__solver': ['sgd', 'adam'],\n",
    "        'model__learning_rate' : ['constant', 'invscaling', 'adaptive'],\n",
    "        'model__learning_rate_init': [0.1, 0.01, 0.001]      \n",
    "    }\n",
    "\n",
    "linRegParamGrid = {}\n",
    "\n",
    "bayesParamGrid={\n",
    "        'model__n_iter':[100,300,500],\n",
    "        'model__lambda_1': [1.e-6, 1.e-4, 1.e-2, 1, 10],\n",
    "        'model__lambda_1': [1.e-6, 1.e-4, 1.e-2, 1, 10]\n",
    "    }\n",
    "\n",
    "dtParamGrid = {\n",
    "    'model__criterion': ['mae'],\n",
    "    'model__max_depth': [5,10,25,50,100]\n",
    "    }\n",
    "\n",
    "aModelList = [(RandomForestRegressor(), rfParamGrid, \"rfTup.pkl\"), \n",
    "             (KNeighborsRegressor(), knnParamGrid, \"knnTup.pkl\"),\n",
    "             (SVR(), svrParamGrid, \"svrTup.pkl\"),\n",
    "             (MLPRegressor(), nnParamGrid, \"nnTup.pkl\"),\n",
    "            (LinearRegression(), linRegParamGrid, \"linRegTup.pkl\"),\n",
    "            (BayesianRidge(), bayesParamGrid, \"bayesTup.pkl\"),\n",
    "            (DecisionTreeRegressor(), dtParamGrid, \"dtTup.pkl\")]\n",
    "\n",
    "# the number of folds to do. This will also be the number of models that will be made for each method.\n",
    "N = 10\n",
    "\n",
    "# The location where all of the results will be saved\n",
    "workingDir = r\"*insert location where all of the machine learning models and their evaluation metrics should be saved*\"\n",
    "\n",
    "# the number of features that should be kept if doing feature selection\n",
    "numFeatures = 4\n"
   ]
  },
  {
   "cell_type": "markdown",
   "metadata": {},
   "source": [
    "Now lets run the tests and save the results."
   ]
  },
  {
   "cell_type": "code",
   "execution_count": null,
   "metadata": {
    "collapsed": true
   },
   "outputs": [],
   "source": [
    "saveMLResults(N, xDf, yDf, aModelList, workingDir, numFeatures, doSelection=False, printResults=True, metricToOptimize='r2')"
   ]
  }
 ],
 "metadata": {
  "kernelspec": {
   "display_name": "Python 3",
   "language": "python",
   "name": "python3"
  },
  "language_info": {
   "codemirror_mode": {
    "name": "ipython",
    "version": 3
   },
   "file_extension": ".py",
   "mimetype": "text/x-python",
   "name": "python",
   "nbconvert_exporter": "python",
   "pygments_lexer": "ipython3",
   "version": "3.6.8"
  }
 },
 "nbformat": 4,
 "nbformat_minor": 2
}
