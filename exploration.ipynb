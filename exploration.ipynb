{
 "cells": [
  {
   "cell_type": "markdown",
   "metadata": {},
   "source": [
    "This notebook will let the user see how the results of machine learning models will change when a different number of features are used. "
   ]
  },
  {
   "cell_type": "markdown",
   "metadata": {},
   "source": [
    "Lets load the API."
   ]
  },
  {
   "cell_type": "code",
   "execution_count": 1,
   "metadata": {
    "collapsed": true
   },
   "outputs": [],
   "source": [
    "# import the API\n",
    "APILoc = r\"C:\\Users\\chris\\Documents\\Thesis\\code\\scripts\\API\"\n",
    "\n",
    "import sys\n",
    "sys.path.insert(0, APILoc)\n",
    "\n",
    "from API import *"
   ]
  },
  {
   "cell_type": "markdown",
   "metadata": {},
   "source": [
    "This cell will allow the user to view all of the results of saved machine learning models from a given directory."
   ]
  },
  {
   "cell_type": "code",
   "execution_count": null,
   "metadata": {
    "collapsed": true
   },
   "outputs": [],
   "source": [
    "# get the location for the models\n",
    "\n",
    "# directory\n",
    "allFeatModelsLoc = r\"*insert the directory where all of the results are saved*\"\n",
    "\n",
    "# list of names of all of the files in the above directory whose content should be printed out\n",
    "modelList = [\"dtTup.pkl\", \"rfTup.pkl\", \"knnTup.pkl\", \"svrTup.pkl\", \"nnTup.pkl\", \"bayesTup.pkl\", \"linRegTup.pkl\"]\n",
    "\n",
    "# for each file, print out the results\n",
    "for model in modelList:\n",
    "    # load the tuples\n",
    "    location = allFeatModelsLoc + \"\\\\\" + model\n",
    "    aTuple = joblib.load(location) # has the form: (bestModel, bestFeatures, bestMAE, bestRSq, bestR, avgMAE, \n",
    "                                   #                avgRSq, avgR, bestMSE, bestMAPE, avgMSE, avgMAPE, trainedModelsList)\n",
    "    \n",
    "    # get model name\n",
    "    stopIndex = model.find(\".\")\n",
    "    modelName = model[:stopIndex]\n",
    "    \n",
    "    # get values\n",
    "    \n",
    "    hyperParams = aTuple[0].best_params_\n",
    "    bestFeatures = aTuple[1]\n",
    "    bestMAE = aTuple[2]\n",
    "    bestRSq = aTuple[3]\n",
    "    bestR = aTuple[4]\n",
    "    avgMAE = aTuple[5]\n",
    "    avgRSq = aTuple[6]\n",
    "    avgR = aTuple[7]\n",
    "    bestMSE = aTuple[8]\n",
    "    bestMAPE = aTuple[9]\n",
    "    avgMSE =aTuple[10]\n",
    "    avgMAPE = aTuple[11]\n",
    "    \n",
    "    # print results\n",
    "    print(modelName + \" avg MAE: \", round(avgMAE, 3))\n",
    "    print(modelName + \" avg MSE: \", round(avgMSE, 3))\n",
    "    print(modelName + \" avg MAPE: \", round(avgMAPE, 3))\n",
    "    print(modelName + \" avg R: \", round(avgR,3))\n",
    "    print(modelName + \" avg R Squared: \", avgRSq)\n",
    "    print(modelName + \" best MAE: \", round(bestMAE, 3))\n",
    "    print(modelName + \" best MSE: \", round(bestMSE, 3))\n",
    "    print(modelName + \" best MAPE: \", round(bestMAPE, 3))\n",
    "    print(modelName + \" best R: \", round(bestR, 3))\n",
    "    print(modelName + \" best R Squared: \", bestRSq)\n",
    "    print(modelName + \" parameters for best model: \", hyperParams)\n",
    "    print(modelName + \" features used: \", bestFeatures)\n",
    "    print(\" \")"
   ]
  },
  {
   "cell_type": "markdown",
   "metadata": {},
   "source": [
    "The next cell will produce a graph showing how the results change with different number of features. To work, there must be a working directory which itself contains folders called 'Nfeatures', where 'N' is an integer. Each 'Nfeatures' folder, must only contain the results from the function 'saveMLResults'."
   ]
  },
  {
   "cell_type": "code",
   "execution_count": null,
   "metadata": {
    "collapsed": true
   },
   "outputs": [],
   "source": [
    "# the directory which contains all of the folders listed in 'aFeaturesList'\n",
    "aWorkingDir = r\"*insert location of working directory*\"\n",
    "\n",
    "# list of folder names where each folder's name has the format 'Nfeatures'\n",
    "aFeaturesList = [\"3features\", \"4features\", \"5features\", \"6features\", \"7features\", \"8features\", \"9features\",\n",
    "                \"10features\", \"11features\"]\n",
    "\n",
    "# the name of the files in each of the folders named in 'aFeaturesList'\n",
    "aModelList = [\"rfTup.pkl\", \"knnTup.pkl\", \"svrTup.pkl\",\"nnTup.pkl\",\"dtTup.pkl\"]\n",
    "\n",
    "plotFeaturesAndR(aWorkingDir, aFeaturesList, aModelList)"
   ]
  }
 ],
 "metadata": {
  "kernelspec": {
   "display_name": "Python 3",
   "language": "python",
   "name": "python3"
  },
  "language_info": {
   "codemirror_mode": {
    "name": "ipython",
    "version": 3
   },
   "file_extension": ".py",
   "mimetype": "text/x-python",
   "name": "python",
   "nbconvert_exporter": "python",
   "pygments_lexer": "ipython3",
   "version": "3.6.8"
  }
 },
 "nbformat": 4,
 "nbformat_minor": 2
}
